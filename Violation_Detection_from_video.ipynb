{
 "cells": [
  {
   "cell_type": "code",
   "execution_count": 2,
   "id": "0488f11a",
   "metadata": {},
   "outputs": [
    {
     "name": "stdout",
     "output_type": "stream",
     "text": [
      "Creating..../cropped/frapp0.jpg\n",
      "Creating..../cropped/frapp1.jpg\n",
      "Creating..../cropped/frapp2.jpg\n",
      "Creating..../cropped/frapp3.jpg\n",
      "Creating..../cropped/frapp4.jpg\n",
      "Creating..../cropped/frapp5.jpg\n",
      "Creating..../cropped/frapp6.jpg\n",
      "Creating..../cropped/frapp7.jpg\n"
     ]
    }
   ],
   "source": [
    "import cv2 as cv\n",
    "import time\n",
    "Conf_threshold = 0.4\n",
    "NMS_threshold = 0.4\n",
    "COLORS = [(0, 255, 0), (0, 0, 255), (255, 0, 0),\n",
    "          (255, 255, 0), (255, 0, 255), (0, 255, 255)]\n",
    "\n",
    "class_name = [\"without_helmet\",\"with_helmet\"]\n",
    "net = cv.dnn.readNet(\"E:/weights/yolov3_custom_3000.weights\", \"E:/weights/yolov3_custom.cfg\")\n",
    "net.setPreferableBackend(cv.dnn.DNN_BACKEND_CUDA)\n",
    "net.setPreferableTarget(cv.dnn.DNN_TARGET_CUDA_FP16)\n",
    "model = cv.dnn_DetectionModel(net)\n",
    "model.setInputParams(size=(416, 416), scale=1/255, swapRB=True)\n",
    "\n",
    "\n",
    "cap = cv.VideoCapture('E:/InShot_20220403_223250335.mp4')\n",
    "starting_time = time.time()\n",
    "frame_counter = 0\n",
    "filepointer=0\n",
    "while True:\n",
    "    ret, frame = cap.read()\n",
    "    frame_counter += 1\n",
    "    if ret == False:\n",
    "        break\n",
    "    classes, scores, boxes = model.detect(frame, Conf_threshold, NMS_threshold)\n",
    "    for (classid, score, box) in zip(classes, scores, boxes):\n",
    "        color = COLORS[int(classid) % len(COLORS)]\n",
    "        label = \"%s : %f\" % (class_name[classid-1], score)\n",
    "        cv.rectangle(frame, box, color, 1)\n",
    "        if classid==1:\n",
    "            xmin,ymin,xmax,ymax=box\n",
    "            if ret:\n",
    "                cropped_img=frame[ymin:ymin+ymax,xmin:xmin+xmax]\n",
    "                name = './cropped/frapp' + str(filepointer) + '.jpg'\n",
    "                print ('Creating...' + name)\n",
    "                cv.imwrite(name, cropped_img)\n",
    "                filepointer+=1\n",
    "        cv.putText(frame, label, (box[0], box[1]-10),\n",
    "                   cv.FONT_HERSHEY_COMPLEX, 0.3, color, 1)\n",
    "        \n",
    "    endingTime = time.time() - starting_time\n",
    "    fps = frame_counter/endingTime\n",
    "    # print(fps)\n",
    "    cv.putText(frame, f'FPS: {fps}', (20, 50),\n",
    "               cv.FONT_HERSHEY_COMPLEX, 0.7, (0, 255, 0), 2)\n",
    "    \n",
    "    height, width, layers = frame.shape\n",
    "    resize = cv.resize(frame, (height, width))\n",
    "\n",
    "    cv.imshow('frame', resize)\n",
    "    key = cv.waitKey(1)\n",
    "    if key == ord('q'):\n",
    "        break\n",
    "cap.release()\n",
    "cv.destroyAllWindows()"
   ]
  }
 ],
 "metadata": {
  "kernelspec": {
   "display_name": "Python 3 (ipykernel)",
   "language": "python",
   "name": "python3"
  },
  "language_info": {
   "codemirror_mode": {
    "name": "ipython",
    "version": 3
   },
   "file_extension": ".py",
   "mimetype": "text/x-python",
   "name": "python",
   "nbconvert_exporter": "python",
   "pygments_lexer": "ipython3",
   "version": "3.9.12"
  }
 },
 "nbformat": 4,
 "nbformat_minor": 5
}
